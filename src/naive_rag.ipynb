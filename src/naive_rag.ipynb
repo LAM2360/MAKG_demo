{
 "cells": [
  {
   "cell_type": "markdown",
   "metadata": {},
   "source": [
    "# 1. Get a Data Loader\n"
   ]
  },
  {
   "cell_type": "code",
   "execution_count": null,
   "metadata": {},
   "outputs": [],
   "source": [
    "from langchain.document_loaders import TextLoader\n",
    "from langchain.schema import Document\n",
    "\n",
    "# 指定txt文件的路径\n",
    "file_path = 'your book.txt'\n",
    "\n",
    "# 使用TextLoader加载txt文件\n",
    "loader = TextLoader(file_path)\n",
    "\n",
    "# 加载文档\n",
    "text_documents = loader.load()\n",
    "\n"
   ]
  },
  {
   "cell_type": "code",
   "execution_count": null,
   "metadata": {},
   "outputs": [],
   "source": [
    "from langchain.text_splitter import RecursiveCharacterTextSplitter\n",
    "\n",
    "text_splitter = RecursiveCharacterTextSplitter(chunk_size=1000, chunk_overlap=30)\n",
    "documents=text_splitter.split_documents(text_documents)\n",
    "documents[0]"
   ]
  },
  {
   "cell_type": "code",
   "execution_count": null,
   "metadata": {},
   "outputs": [],
   "source": [
    "from sentence_transformers import SentenceTransformer\n",
    "from langchain.embeddings.base import Embeddings as BaseEmbeddings\n",
    "from typing import List\n",
    "\n",
    "class SentenceTransformerEmbeddings(BaseEmbeddings):\n",
    "    def __init__(self, model_name: str = 'all-MiniLM-L6-v2'):\n",
    "        self.model = SentenceTransformer(model_name)\n",
    "\n",
    "    def embed_documents(self, texts: List[str]) -> List[List[float]]:\n",
    "        return self.model.encode(texts, convert_to_tensor=False).tolist()\n",
    "\n",
    "    def embed_query(self, text: str) -> List[float]:\n",
    "        return self.model.encode([text], convert_to_tensor=False).tolist()[0]\n",
    "\n",
    "\n",
    "embedding = SentenceTransformerEmbeddings(model_name='your model name')"
   ]
  },
  {
   "cell_type": "code",
   "execution_count": null,
   "metadata": {},
   "outputs": [],
   "source": [
    "# 读取txt文件并按行分割\n",
    "with open('semantic_chunks.txt', 'r', encoding='utf-8') as file:\n",
    "    lines = file.readlines()\n",
    "\n",
    "# 去除每行末尾的换行符\n",
    "lines = [line.strip() for line in lines]"
   ]
  },
  {
   "cell_type": "code",
   "execution_count": null,
   "metadata": {},
   "outputs": [],
   "source": [
    "from langchain.vectorstores import FAISS\n",
    "from langchain.docstore import InMemoryDocstore\n",
    "from langchain.docstore.document import Document\n",
    "from typing import Tuple\n",
    "\n",
    "document_embeddings = embedding.embed_documents(lines)\n",
    "\n",
    "# 创建 (text, embedding) 对的列表\n",
    "text_embedding_pairs: List[Tuple[str, List]] = list(zip(lines, document_embeddings))\n",
    "\n",
    "# 创建 FAISS 向量存储\n",
    "vectorstore = FAISS.from_embeddings(text_embedding_pairs, embedding)"
   ]
  },
  {
   "cell_type": "markdown",
   "metadata": {},
   "source": [
    "修改数据集格式"
   ]
  },
  {
   "cell_type": "code",
   "execution_count": null,
   "metadata": {},
   "outputs": [],
   "source": [
    "import csv\n",
    "\n",
    "# 定义输入和输出的CSV文件路径\n",
    "input_file = 'your dataset.csv'\n",
    "output_file = 'output dataset.csv'\n",
    "\n",
    "# 打开输入文件和输出文件\n",
    "with open(input_file, mode='r', encoding='utf-8') as infile, open(output_file, mode='w', newline='', encoding='utf-8') as outfile:\n",
    "    reader = csv.reader(infile)\n",
    "    writer = csv.writer(outfile)\n",
    "    \n",
    "    # 遍历每一行数据\n",
    "    for row in reader:\n",
    "        # 将每个字段用[]包裹\n",
    "        wrapped_row = ['[' + field + ']' for field in row]\n",
    "        # 写入新的一行数据\n",
    "        writer.writerow(wrapped_row)"
   ]
  },
  {
   "cell_type": "code",
   "execution_count": null,
   "metadata": {},
   "outputs": [],
   "source": [
    "from langchain.prompts import ChatPromptTemplate\n",
    "import pandas as pd\n",
    "df = pd.read_csv(\"your dataset.csv\")\n",
    "# sample_df = df.sample(n=100, random_state=1)  # random_state for reproducibility\n",
    "# print(sample_df)\n",
    "# df = sample_df\n",
    "query= df['question']"
   ]
  },
  {
   "cell_type": "code",
   "execution_count": null,
   "metadata": {},
   "outputs": [],
   "source": [
    "results = []\n",
    "all_contexts = []\n",
    "import time\n",
    "\n",
    "\n",
    "# Loop through each query, retrieve context, and store it\n",
    "for q in query:\n",
    "    start_time = time.time()\n",
    "    result = vectorstore.similarity_search(q)\n",
    "    context_text = ([doc.page_content for doc in result])\n",
    "    all_contexts.append(context_text)"
   ]
  },
  {
   "cell_type": "markdown",
   "metadata": {},
   "source": [
    "# 3. Make a RAG pipeline\n"
   ]
  },
  {
   "cell_type": "code",
   "execution_count": null,
   "metadata": {},
   "outputs": [],
   "source": [
    "from langchain.prompts import ChatPromptTemplate\n",
    "\n",
    "\n",
    "# Combine all contexts into a single string\n",
    "#final_context = \"\\n\\n\".join(all_contexts)\n",
    "#print(final_context)\n",
    "\n",
    "# Create prompt template\n",
    "PROMPT_TEMPLATE = \"\"\"\n",
    "根据以下上下文回答问题：\n",
    "{context}\n",
    "根据上述上下文回答问题：{question}。\n",
    "提供直接简单明了的答案。\n",
    "不要为你的答案提供理由。\n",
    "不要提供上下文信息中未提到的信息,如果你在上下文中找不到，请回答不知道。\n",
    "不要说“根据上下文”或“在上下文中提到”或类似的话。\n",
    "\"\"\"\n",
    "\n",
    "prompt_template = ChatPromptTemplate.from_template(PROMPT_TEMPLATE)"
   ]
  },
  {
   "cell_type": "code",
   "execution_count": null,
   "metadata": {},
   "outputs": [],
   "source": [
    "import os\n",
    "from langchain_openai import OpenAIEmbeddings,ChatOpenAI\n",
    "os.environ['OPENAI_API_KEY'] = \"your api key\"\n",
    "os.environ['OPENAI_API_BASE'] = \"your api base\"\n",
    "llm = ChatOpenAI(model = 'local_model or online_model')"
   ]
  },
  {
   "cell_type": "code",
   "execution_count": null,
   "metadata": {},
   "outputs": [],
   "source": [
    "responses = []\n",
    "results = []\n",
    "all_contexts = []\n",
    "import time\n",
    "total_time = 0\n",
    "query_count = 0\n",
    "#计算耗时\n",
    "for q in query:\n",
    "    start_time = time.time()\n",
    "    result = vectorstore.similarity_search(q)\n",
    "    context_text = ([doc.page_content for doc in result])\n",
    "    all_contexts.append(context_text)\n",
    "    prompt = prompt_template.format(context=all_contexts, question=q)\n",
    "    model = llm \n",
    "    response_text = model.predict(prompt)\n",
    "    end_time = time.time()\n",
    "    total_time += end_time - start_time\n",
    "    query_count += 1\n",
    "    responses.append(response_text)\n",
    "\n",
    "avg_time = total_time / query_count\n",
    "print(f\"Average time taken: {avg_time:.2f} seconds\")\n",
    "\n"
   ]
  },
  {
   "cell_type": "code",
   "execution_count": null,
   "metadata": {},
   "outputs": [],
   "source": [
    "len(responses)"
   ]
  },
  {
   "cell_type": "code",
   "execution_count": null,
   "metadata": {},
   "outputs": [],
   "source": [
    "df['answer'] = responses\n",
    "df[\"retrival_contexts\"] = all_contexts\n",
    "print(\"Existing columns:\", df.columns)\n",
    "df.to_csv(\"naive_rag_output_dataset.csv\", index=False)"
   ]
  }
 ],
 "metadata": {
  "kernelspec": {
   "display_name": "base",
   "language": "python",
   "name": "python3"
  },
  "language_info": {
   "codemirror_mode": {
    "name": "ipython",
    "version": 3
   },
   "file_extension": ".py",
   "mimetype": "text/x-python",
   "name": "python",
   "nbconvert_exporter": "python",
   "pygments_lexer": "ipython3",
   "version": "3.10.14"
  }
 },
 "nbformat": 4,
 "nbformat_minor": 2
}
